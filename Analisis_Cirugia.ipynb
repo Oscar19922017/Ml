{
  "nbformat": 4,
  "nbformat_minor": 0,
  "metadata": {
    "colab": {
      "name": "Analisis_Cirugia.ipynb",
      "provenance": [],
      "authorship_tag": "ABX9TyNbmlW6OIj9CZTy+xsOrB9u",
      "include_colab_link": true
    },
    "kernelspec": {
      "name": "python3",
      "display_name": "Python 3"
    }
  },
  "cells": [
    {
      "cell_type": "markdown",
      "metadata": {
        "id": "view-in-github",
        "colab_type": "text"
      },
      "source": [
        "<a href=\"https://colab.research.google.com/github/Oscar19922017/Ml/blob/master/Analisis_Cirugia.ipynb\" target=\"_parent\"><img src=\"https://colab.research.google.com/assets/colab-badge.svg\" alt=\"Open In Colab\"/></a>"
      ]
    },
    {
      "cell_type": "markdown",
      "metadata": {
        "id": "-VobQbKSHRPs",
        "colab_type": "text"
      },
      "source": [
        "**Analisis de Cirugias**\n",
        "\n",
        "ghahhshsshhshsh sjdghdsjdskdhjhfdlsb \n",
        "sjhjsjhdkdfjkswb audjhjekd hshjsj d uhaqss \n",
        "\n"
      ]
    },
    {
      "cell_type": "markdown",
      "metadata": {
        "id": "88DxRukWHlPY",
        "colab_type": "text"
      },
      "source": [
        "**Librerias**"
      ]
    },
    {
      "cell_type": "code",
      "metadata": {
        "id": "RXeZ49LMHoTy",
        "colab_type": "code",
        "colab": {}
      },
      "source": [
        "import pandas as pd\n",
        "import numpy as np"
      ],
      "execution_count": 0,
      "outputs": []
    },
    {
      "cell_type": "markdown",
      "metadata": {
        "id": "bEzdc2s9II3q",
        "colab_type": "text"
      },
      "source": [
        "**Importar Datos**"
      ]
    },
    {
      "cell_type": "markdown",
      "metadata": {
        "id": "ChYbBaLRI-vf",
        "colab_type": "text"
      },
      "source": [
        "**Archivo Cirugias Cif**"
      ]
    },
    {
      "cell_type": "code",
      "metadata": {
        "id": "6ryjQGgFIMCb",
        "colab_type": "code",
        "colab": {}
      },
      "source": [
        "df_Cif = pd.read_excel(\"INFORME DE CIRUGIA CIF.xlsx\")"
      ],
      "execution_count": 0,
      "outputs": []
    },
    {
      "cell_type": "code",
      "metadata": {
        "id": "afKtxax5ItVj",
        "colab_type": "code",
        "colab": {
          "base_uri": "https://localhost:8080/",
          "height": 417
        },
        "outputId": "caa04d4d-9994-44f9-fa5b-2a823670f264"
      },
      "source": [
        "df_Cif.head(3)"
      ],
      "execution_count": 3,
      "outputs": [
        {
          "output_type": "execute_result",
          "data": {
            "text/html": [
              "<div>\n",
              "<style scoped>\n",
              "    .dataframe tbody tr th:only-of-type {\n",
              "        vertical-align: middle;\n",
              "    }\n",
              "\n",
              "    .dataframe tbody tr th {\n",
              "        vertical-align: top;\n",
              "    }\n",
              "\n",
              "    .dataframe thead th {\n",
              "        text-align: right;\n",
              "    }\n",
              "</style>\n",
              "<table border=\"1\" class=\"dataframe\">\n",
              "  <thead>\n",
              "    <tr style=\"text-align: right;\">\n",
              "      <th></th>\n",
              "      <th>Anio</th>\n",
              "      <th>Mes</th>\n",
              "      <th>IdAtencion</th>\n",
              "      <th>IdCx</th>\n",
              "      <th>FecCirugia</th>\n",
              "      <th>FecRegistro</th>\n",
              "      <th>idCCosto</th>\n",
              "      <th>cod_ccos</th>\n",
              "      <th>Centro de Costos - SAHI</th>\n",
              "      <th>IdUbicacion</th>\n",
              "      <th>Ubicacion - SAHI</th>\n",
              "      <th>IdProducto</th>\n",
              "      <th>Producto - SAHI</th>\n",
              "      <th>CodLegal</th>\n",
              "      <th>DesInicioCx</th>\n",
              "      <th>ValInicioCx</th>\n",
              "      <th>DesFinalCx</th>\n",
              "      <th>ValFinalCx</th>\n",
              "      <th>MinutosCx</th>\n",
              "      <th>IdCenCosto</th>\n",
              "      <th>IdeCenCosto</th>\n",
              "      <th>Centro de Costos - Modulo</th>\n",
              "      <th>UniEquivalencia</th>\n",
              "      <th>CstIdProducto</th>\n",
              "      <th>Producto - Modulo</th>\n",
              "      <th>CstIdeProducto</th>\n",
              "      <th>ValCIF</th>\n",
              "    </tr>\n",
              "  </thead>\n",
              "  <tbody>\n",
              "    <tr>\n",
              "      <th>0</th>\n",
              "      <td>2020</td>\n",
              "      <td>1</td>\n",
              "      <td>1043856</td>\n",
              "      <td>55846</td>\n",
              "      <td>2020-01-27 16:43:00</td>\n",
              "      <td>2020-01-27 18:46:54</td>\n",
              "      <td>45</td>\n",
              "      <td>700</td>\n",
              "      <td>SERVICIO DE CIRUGÍA</td>\n",
              "      <td>97</td>\n",
              "      <td>Sala 4</td>\n",
              "      <td>10091</td>\n",
              "      <td>COLGAJO LOCAL SIMPLE DE PIEL DE MAS DE CINCO C...</td>\n",
              "      <td>867003</td>\n",
              "      <td>Paciente en Sala</td>\n",
              "      <td>2020-01-27 17:30:00</td>\n",
              "      <td>Paciente Fuera de la Sala</td>\n",
              "      <td>2020-01-27 19:00:00</td>\n",
              "      <td>90.0</td>\n",
              "      <td>35</td>\n",
              "      <td>700</td>\n",
              "      <td>Servicio de Cirugia</td>\n",
              "      <td>90.0</td>\n",
              "      <td>5210.0</td>\n",
              "      <td>COLGAJO LOCAL SIMPLE DE PIEL DE MAS DE CINCO C...</td>\n",
              "      <td>10091</td>\n",
              "      <td>1.189118e+06</td>\n",
              "    </tr>\n",
              "    <tr>\n",
              "      <th>1</th>\n",
              "      <td>2020</td>\n",
              "      <td>1</td>\n",
              "      <td>1042103</td>\n",
              "      <td>55731</td>\n",
              "      <td>2020-01-15 10:18:00</td>\n",
              "      <td>2020-01-15 10:20:00</td>\n",
              "      <td>45</td>\n",
              "      <td>700</td>\n",
              "      <td>SERVICIO DE CIRUGÍA</td>\n",
              "      <td>97</td>\n",
              "      <td>Sala 4</td>\n",
              "      <td>10096+123565</td>\n",
              "      <td>COLOCACION DE CATETER PARA DIALISIS PERITONEAL...</td>\n",
              "      <td>549001+544104</td>\n",
              "      <td>Paciente en Sala</td>\n",
              "      <td>2020-01-15 09:05:00</td>\n",
              "      <td>Paciente Fuera de la Sala</td>\n",
              "      <td>2020-01-15 10:18:00</td>\n",
              "      <td>73.0</td>\n",
              "      <td>35</td>\n",
              "      <td>700</td>\n",
              "      <td>Servicio de Cirugia</td>\n",
              "      <td>73.0</td>\n",
              "      <td>5211.0</td>\n",
              "      <td>COLOCACION DE CATETER PARA DIALISIS PERITONEAL...</td>\n",
              "      <td>10096+123565</td>\n",
              "      <td>9.645069e+05</td>\n",
              "    </tr>\n",
              "    <tr>\n",
              "      <th>2</th>\n",
              "      <td>2020</td>\n",
              "      <td>1</td>\n",
              "      <td>1044065</td>\n",
              "      <td>55824</td>\n",
              "      <td>2020-01-23 12:48:00</td>\n",
              "      <td>2020-01-24 09:49:08</td>\n",
              "      <td>45</td>\n",
              "      <td>700</td>\n",
              "      <td>SERVICIO DE CIRUGÍA</td>\n",
              "      <td>95</td>\n",
              "      <td>Sala 2</td>\n",
              "      <td>113437+113438+113439</td>\n",
              "      <td>ANASTOMOSIS SIMPLE ARTERIA DESCENDENTE ANTERIO...</td>\n",
              "      <td>361605+361901+361801</td>\n",
              "      <td>Paciente en Sala</td>\n",
              "      <td>2020-01-23 10:35:00</td>\n",
              "      <td>Paciente Fuera de la Sala</td>\n",
              "      <td>2020-01-23 18:00:00</td>\n",
              "      <td>445.0</td>\n",
              "      <td>35</td>\n",
              "      <td>700</td>\n",
              "      <td>Servicio de Cirugia</td>\n",
              "      <td>378.0</td>\n",
              "      <td>3410.0</td>\n",
              "      <td>ANASTOMOSIS SIMPLE ARTERIA DESCENDENTE ANTERI...</td>\n",
              "      <td>113437+113438+113439</td>\n",
              "      <td>4.994296e+06</td>\n",
              "    </tr>\n",
              "  </tbody>\n",
              "</table>\n",
              "</div>"
            ],
            "text/plain": [
              "   Anio  Mes  ...        CstIdeProducto        ValCIF\n",
              "0  2020    1  ...                 10091  1.189118e+06\n",
              "1  2020    1  ...          10096+123565  9.645069e+05\n",
              "2  2020    1  ...  113437+113438+113439  4.994296e+06\n",
              "\n",
              "[3 rows x 27 columns]"
            ]
          },
          "metadata": {
            "tags": []
          },
          "execution_count": 3
        }
      ]
    },
    {
      "cell_type": "markdown",
      "metadata": {
        "id": "2bBe95G1JEGE",
        "colab_type": "text"
      },
      "source": [
        "**Importar Cirugias Mod**"
      ]
    },
    {
      "cell_type": "code",
      "metadata": {
        "id": "Mmw6BcyLJIrX",
        "colab_type": "code",
        "colab": {
          "base_uri": "https://localhost:8080/",
          "height": 383
        },
        "outputId": "f933d67d-ab7a-4eaf-bf4d-4f92edbb2c05"
      },
      "source": [
        "df_Mod = pd.read_excel(\"INFORME DE CIRUGIA MOD.xlsx\")\n",
        "df_Mod.head(3)"
      ],
      "execution_count": 4,
      "outputs": [
        {
          "output_type": "execute_result",
          "data": {
            "text/html": [
              "<div>\n",
              "<style scoped>\n",
              "    .dataframe tbody tr th:only-of-type {\n",
              "        vertical-align: middle;\n",
              "    }\n",
              "\n",
              "    .dataframe tbody tr th {\n",
              "        vertical-align: top;\n",
              "    }\n",
              "\n",
              "    .dataframe thead th {\n",
              "        text-align: right;\n",
              "    }\n",
              "</style>\n",
              "<table border=\"1\" class=\"dataframe\">\n",
              "  <thead>\n",
              "    <tr style=\"text-align: right;\">\n",
              "      <th></th>\n",
              "      <th>Anio</th>\n",
              "      <th>Mes</th>\n",
              "      <th>IdAtencion</th>\n",
              "      <th>IdCx</th>\n",
              "      <th>FecCirugia</th>\n",
              "      <th>FecRegistro</th>\n",
              "      <th>idCCosto</th>\n",
              "      <th>cod_ccos</th>\n",
              "      <th>Centro de Costos - SAHI</th>\n",
              "      <th>IdUbicacion</th>\n",
              "      <th>Ubicacion - SAHI</th>\n",
              "      <th>IdProducto</th>\n",
              "      <th>Producto - SAHI</th>\n",
              "      <th>CodLegal</th>\n",
              "      <th>IdPersonal</th>\n",
              "      <th>NumDocumento</th>\n",
              "      <th>Nompersonal</th>\n",
              "      <th>IdTercero</th>\n",
              "      <th>IdCargo</th>\n",
              "      <th>NomCargo</th>\n",
              "      <th>DesInicioCx</th>\n",
              "      <th>FecInicioCx</th>\n",
              "      <th>DesFinalCx</th>\n",
              "      <th>FecFinalCx</th>\n",
              "      <th>MinutosCx</th>\n",
              "      <th>IdCenCosto</th>\n",
              "      <th>IdentificadorCenCosto</th>\n",
              "      <th>Centro de Costos - Modulo</th>\n",
              "      <th>CstIdProducto</th>\n",
              "      <th>Producto - Modulo</th>\n",
              "      <th>IdentificadorProducto</th>\n",
              "      <th>TiempoProducto</th>\n",
              "      <th>ValMODConResponsable</th>\n",
              "      <th>ValMODSinResponsable</th>\n",
              "      <th>ValTercero</th>\n",
              "      <th>Tercero</th>\n",
              "      <th>NominaMOD</th>\n",
              "    </tr>\n",
              "  </thead>\n",
              "  <tbody>\n",
              "    <tr>\n",
              "      <th>0</th>\n",
              "      <td>2020</td>\n",
              "      <td>1</td>\n",
              "      <td>1040641</td>\n",
              "      <td>55812</td>\n",
              "      <td>2020-01-22 10:27:00</td>\n",
              "      <td>2020-01-22 10:30:00</td>\n",
              "      <td>45</td>\n",
              "      <td>700</td>\n",
              "      <td>SERVICIO DE CIRUGÍA</td>\n",
              "      <td>96</td>\n",
              "      <td>Sala 3</td>\n",
              "      <td>113568+113640</td>\n",
              "      <td>CERCLAJE DE ARTERIA PULMONAR VÍA ABIERTA+ATRIO...</td>\n",
              "      <td>359701+354101</td>\n",
              "      <td>48</td>\n",
              "      <td>19288515</td>\n",
              "      <td>VICTOR RAUL CASTILLO MANTILLA</td>\n",
              "      <td>162</td>\n",
              "      <td>2</td>\n",
              "      <td>Cirujano Ayudante</td>\n",
              "      <td>Procedimiento Empieza</td>\n",
              "      <td>2020-01-22 09:46:00</td>\n",
              "      <td>Procedimiento Termina</td>\n",
              "      <td>2020-01-22 12:35:00</td>\n",
              "      <td>169.0</td>\n",
              "      <td>35</td>\n",
              "      <td>700</td>\n",
              "      <td>Servicio de Cirugia</td>\n",
              "      <td>5218.0</td>\n",
              "      <td>CERCLAJE DE ARTERIA PULMONAR VÍA ABIERTA+ATRIO...</td>\n",
              "      <td>113568+113640</td>\n",
              "      <td>169.0</td>\n",
              "      <td>0.0</td>\n",
              "      <td>0</td>\n",
              "      <td>0.0</td>\n",
              "      <td>No</td>\n",
              "      <td>No</td>\n",
              "    </tr>\n",
              "    <tr>\n",
              "      <th>1</th>\n",
              "      <td>2020</td>\n",
              "      <td>1</td>\n",
              "      <td>1044084</td>\n",
              "      <td>55798</td>\n",
              "      <td>2020-01-21 09:43:00</td>\n",
              "      <td>2020-01-21 09:46:00</td>\n",
              "      <td>45</td>\n",
              "      <td>700</td>\n",
              "      <td>SERVICIO DE CIRUGÍA</td>\n",
              "      <td>96</td>\n",
              "      <td>Sala 3</td>\n",
              "      <td>3056+4627+12444+113557+113640+114052</td>\n",
              "      <td>REPARACION TRANSATRIAL DE LA TETRALOGIA DE FAL...</td>\n",
              "      <td>358102+373303+356201+352001+354101+359801</td>\n",
              "      <td>48</td>\n",
              "      <td>19288515</td>\n",
              "      <td>VICTOR RAUL CASTILLO MANTILLA</td>\n",
              "      <td>162</td>\n",
              "      <td>2</td>\n",
              "      <td>Cirujano Ayudante</td>\n",
              "      <td>Procedimiento Empieza</td>\n",
              "      <td>2020-01-21 09:38:00</td>\n",
              "      <td>Procedimiento Termina</td>\n",
              "      <td>2020-01-21 16:05:00</td>\n",
              "      <td>387.0</td>\n",
              "      <td>35</td>\n",
              "      <td>700</td>\n",
              "      <td>Servicio de Cirugia</td>\n",
              "      <td>5241.0</td>\n",
              "      <td>REPARACION TRANSATRIAL DE LA TETRALOGIA DE FAL...</td>\n",
              "      <td>3056+4627+12444+113557+113640+114052</td>\n",
              "      <td>387.0</td>\n",
              "      <td>0.0</td>\n",
              "      <td>0</td>\n",
              "      <td>0.0</td>\n",
              "      <td>No</td>\n",
              "      <td>No</td>\n",
              "    </tr>\n",
              "    <tr>\n",
              "      <th>2</th>\n",
              "      <td>2020</td>\n",
              "      <td>1</td>\n",
              "      <td>1040237</td>\n",
              "      <td>55650</td>\n",
              "      <td>2020-01-03 09:09:00</td>\n",
              "      <td>2020-01-03 09:14:00</td>\n",
              "      <td>45</td>\n",
              "      <td>700</td>\n",
              "      <td>SERVICIO DE CIRUGÍA</td>\n",
              "      <td>96</td>\n",
              "      <td>Sala 3</td>\n",
              "      <td>3163+12396</td>\n",
              "      <td>CREACION DE FISTULAS SISTEMICO-PULMONARES+REIN...</td>\n",
              "      <td>359402+359502</td>\n",
              "      <td>48</td>\n",
              "      <td>19288515</td>\n",
              "      <td>VICTOR RAUL CASTILLO MANTILLA</td>\n",
              "      <td>162</td>\n",
              "      <td>2</td>\n",
              "      <td>Cirujano Ayudante</td>\n",
              "      <td>Procedimiento Empieza</td>\n",
              "      <td>2020-01-03 09:33:00</td>\n",
              "      <td>Procedimiento Termina</td>\n",
              "      <td>2020-01-03 11:39:00</td>\n",
              "      <td>126.0</td>\n",
              "      <td>35</td>\n",
              "      <td>700</td>\n",
              "      <td>Servicio de Cirugia</td>\n",
              "      <td>5242.0</td>\n",
              "      <td>CREACION DE FISTULAS SISTEMICO-PULMONARES+REIN...</td>\n",
              "      <td>3163+12396</td>\n",
              "      <td>126.0</td>\n",
              "      <td>0.0</td>\n",
              "      <td>0</td>\n",
              "      <td>0.0</td>\n",
              "      <td>No</td>\n",
              "      <td>No</td>\n",
              "    </tr>\n",
              "  </tbody>\n",
              "</table>\n",
              "</div>"
            ],
            "text/plain": [
              "   Anio  Mes  IdAtencion  ...  ValTercero Tercero NominaMOD\n",
              "0  2020    1     1040641  ...         0.0      No        No\n",
              "1  2020    1     1044084  ...         0.0      No        No\n",
              "2  2020    1     1040237  ...         0.0      No        No\n",
              "\n",
              "[3 rows x 37 columns]"
            ]
          },
          "metadata": {
            "tags": []
          },
          "execution_count": 4
        }
      ]
    },
    {
      "cell_type": "markdown",
      "metadata": {
        "id": "IahrlRbyKIEj",
        "colab_type": "text"
      },
      "source": [
        "**Dimensiones**"
      ]
    },
    {
      "cell_type": "code",
      "metadata": {
        "id": "Y3S0Xez4KKjj",
        "colab_type": "code",
        "colab": {
          "base_uri": "https://localhost:8080/",
          "height": 34
        },
        "outputId": "3753b9e7-7f19-4d31-bca3-16f3f56578a1"
      },
      "source": [
        "print(df_Cif.shape)"
      ],
      "execution_count": 5,
      "outputs": [
        {
          "output_type": "stream",
          "text": [
            "(825, 27)\n"
          ],
          "name": "stdout"
        }
      ]
    },
    {
      "cell_type": "code",
      "metadata": {
        "id": "_Hb6L8YgKTJT",
        "colab_type": "code",
        "colab": {
          "base_uri": "https://localhost:8080/",
          "height": 34
        },
        "outputId": "d74bdb43-8c58-44a5-f4d7-0fe051521a25"
      },
      "source": [
        "print(df_Mod.shape)"
      ],
      "execution_count": 6,
      "outputs": [
        {
          "output_type": "stream",
          "text": [
            "(1667, 37)\n"
          ],
          "name": "stdout"
        }
      ]
    },
    {
      "cell_type": "markdown",
      "metadata": {
        "id": "o1t31AtwKqOr",
        "colab_type": "text"
      },
      "source": [
        "**Visualizar Variables**"
      ]
    },
    {
      "cell_type": "code",
      "metadata": {
        "id": "NbOa-nwIKoML",
        "colab_type": "code",
        "colab": {
          "base_uri": "https://localhost:8080/",
          "height": 595
        },
        "outputId": "4c87ee85-cd2c-4425-c563-eac7a70e3934"
      },
      "source": [
        "df_Cif.info()"
      ],
      "execution_count": 7,
      "outputs": [
        {
          "output_type": "stream",
          "text": [
            "<class 'pandas.core.frame.DataFrame'>\n",
            "RangeIndex: 825 entries, 0 to 824\n",
            "Data columns (total 27 columns):\n",
            " #   Column                     Non-Null Count  Dtype         \n",
            "---  ------                     --------------  -----         \n",
            " 0   Anio                       825 non-null    int64         \n",
            " 1   Mes                        825 non-null    int64         \n",
            " 2   IdAtencion                 825 non-null    int64         \n",
            " 3   IdCx                       825 non-null    int64         \n",
            " 4   FecCirugia                 825 non-null    datetime64[ns]\n",
            " 5   FecRegistro                825 non-null    datetime64[ns]\n",
            " 6   idCCosto                   825 non-null    int64         \n",
            " 7   cod_ccos                   825 non-null    int64         \n",
            " 8   Centro de Costos - SAHI    825 non-null    object        \n",
            " 9   IdUbicacion                825 non-null    int64         \n",
            " 10  Ubicacion - SAHI           825 non-null    object        \n",
            " 11  IdProducto                 825 non-null    object        \n",
            " 12  Producto - SAHI            825 non-null    object        \n",
            " 13  CodLegal                   825 non-null    object        \n",
            " 14  DesInicioCx                718 non-null    object        \n",
            " 15  ValInicioCx                718 non-null    datetime64[ns]\n",
            " 16  DesFinalCx                 685 non-null    object        \n",
            " 17  ValFinalCx                 685 non-null    datetime64[ns]\n",
            " 18  MinutosCx                  653 non-null    float64       \n",
            " 19  IdCenCosto                 825 non-null    int64         \n",
            " 20  IdeCenCosto                825 non-null    int64         \n",
            " 21  Centro de Costos - Modulo  825 non-null    object        \n",
            " 22  UniEquivalencia            751 non-null    float64       \n",
            " 23  CstIdProducto              764 non-null    float64       \n",
            " 24  Producto - Modulo          764 non-null    object        \n",
            " 25  CstIdeProducto             764 non-null    object        \n",
            " 26  ValCIF                     825 non-null    float64       \n",
            "dtypes: datetime64[ns](4), float64(4), int64(9), object(10)\n",
            "memory usage: 174.1+ KB\n"
          ],
          "name": "stdout"
        }
      ]
    },
    {
      "cell_type": "code",
      "metadata": {
        "id": "fIpmxdINKxBT",
        "colab_type": "code",
        "colab": {
          "base_uri": "https://localhost:8080/",
          "height": 765
        },
        "outputId": "33538f90-cfef-4961-8bf1-8711cd4a7d7a"
      },
      "source": [
        "df_Mod.info()"
      ],
      "execution_count": 8,
      "outputs": [
        {
          "output_type": "stream",
          "text": [
            "<class 'pandas.core.frame.DataFrame'>\n",
            "RangeIndex: 1667 entries, 0 to 1666\n",
            "Data columns (total 37 columns):\n",
            " #   Column                     Non-Null Count  Dtype         \n",
            "---  ------                     --------------  -----         \n",
            " 0   Anio                       1667 non-null   int64         \n",
            " 1   Mes                        1667 non-null   int64         \n",
            " 2   IdAtencion                 1667 non-null   int64         \n",
            " 3   IdCx                       1667 non-null   int64         \n",
            " 4   FecCirugia                 1667 non-null   datetime64[ns]\n",
            " 5   FecRegistro                1667 non-null   datetime64[ns]\n",
            " 6   idCCosto                   1667 non-null   int64         \n",
            " 7   cod_ccos                   1667 non-null   int64         \n",
            " 8   Centro de Costos - SAHI    1667 non-null   object        \n",
            " 9   IdUbicacion                1667 non-null   int64         \n",
            " 10  Ubicacion - SAHI           1667 non-null   object        \n",
            " 11  IdProducto                 1667 non-null   object        \n",
            " 12  Producto - SAHI            1667 non-null   object        \n",
            " 13  CodLegal                   1667 non-null   object        \n",
            " 14  IdPersonal                 1667 non-null   int64         \n",
            " 15  NumDocumento               1667 non-null   int64         \n",
            " 16  Nompersonal                1667 non-null   object        \n",
            " 17  IdTercero                  1667 non-null   int64         \n",
            " 18  IdCargo                    1667 non-null   int64         \n",
            " 19  NomCargo                   1667 non-null   object        \n",
            " 20  DesInicioCx                1614 non-null   object        \n",
            " 21  FecInicioCx                1614 non-null   datetime64[ns]\n",
            " 22  DesFinalCx                 1597 non-null   object        \n",
            " 23  FecFinalCx                 1597 non-null   datetime64[ns]\n",
            " 24  MinutosCx                  1576 non-null   float64       \n",
            " 25  IdCenCosto                 1667 non-null   int64         \n",
            " 26  IdentificadorCenCosto      1667 non-null   int64         \n",
            " 27  Centro de Costos - Modulo  1667 non-null   object        \n",
            " 28  CstIdProducto              1512 non-null   float64       \n",
            " 29  Producto - Modulo          1512 non-null   object        \n",
            " 30  IdentificadorProducto      1512 non-null   object        \n",
            " 31  TiempoProducto             1512 non-null   float64       \n",
            " 32  ValMODConResponsable       1667 non-null   float64       \n",
            " 33  ValMODSinResponsable       1667 non-null   int64         \n",
            " 34  ValTercero                 1667 non-null   float64       \n",
            " 35  Tercero                    1667 non-null   object        \n",
            " 36  NominaMOD                  1667 non-null   object        \n",
            "dtypes: datetime64[ns](4), float64(5), int64(14), object(14)\n",
            "memory usage: 482.0+ KB\n"
          ],
          "name": "stdout"
        }
      ]
    },
    {
      "cell_type": "markdown",
      "metadata": {
        "id": "mjlL0E8ANHVZ",
        "colab_type": "text"
      },
      "source": [
        "**Seleccion de Variables**"
      ]
    },
    {
      "cell_type": "code",
      "metadata": {
        "id": "BnRViAcoNKjT",
        "colab_type": "code",
        "colab": {}
      },
      "source": [
        "df_Cif = df_Cif[[\"IdAtencion\",\"Anio\",\"Mes\",\"FecCirugia\",\"FecRegistro\",\"IdUbicacion\",\"Ubicacion - SAHI\",\"CodLegal\",\"ValInicioCx\",\"ValFinalCx\",\"MinutosCx\",\"ValCIF\"]]"
      ],
      "execution_count": 0,
      "outputs": []
    },
    {
      "cell_type": "code",
      "metadata": {
        "id": "EKY7pPN8P0kB",
        "colab_type": "code",
        "colab": {
          "base_uri": "https://localhost:8080/",
          "height": 142
        },
        "outputId": "5afca332-a644-4cf8-93a7-d53cb2327336"
      },
      "source": [
        "df_Cif.head(3)"
      ],
      "execution_count": 10,
      "outputs": [
        {
          "output_type": "execute_result",
          "data": {
            "text/html": [
              "<div>\n",
              "<style scoped>\n",
              "    .dataframe tbody tr th:only-of-type {\n",
              "        vertical-align: middle;\n",
              "    }\n",
              "\n",
              "    .dataframe tbody tr th {\n",
              "        vertical-align: top;\n",
              "    }\n",
              "\n",
              "    .dataframe thead th {\n",
              "        text-align: right;\n",
              "    }\n",
              "</style>\n",
              "<table border=\"1\" class=\"dataframe\">\n",
              "  <thead>\n",
              "    <tr style=\"text-align: right;\">\n",
              "      <th></th>\n",
              "      <th>IdAtencion</th>\n",
              "      <th>Anio</th>\n",
              "      <th>Mes</th>\n",
              "      <th>FecCirugia</th>\n",
              "      <th>FecRegistro</th>\n",
              "      <th>IdUbicacion</th>\n",
              "      <th>Ubicacion - SAHI</th>\n",
              "      <th>CodLegal</th>\n",
              "      <th>ValInicioCx</th>\n",
              "      <th>ValFinalCx</th>\n",
              "      <th>MinutosCx</th>\n",
              "      <th>ValCIF</th>\n",
              "    </tr>\n",
              "  </thead>\n",
              "  <tbody>\n",
              "    <tr>\n",
              "      <th>0</th>\n",
              "      <td>1043856</td>\n",
              "      <td>2020</td>\n",
              "      <td>1</td>\n",
              "      <td>2020-01-27 16:43:00</td>\n",
              "      <td>2020-01-27 18:46:54</td>\n",
              "      <td>97</td>\n",
              "      <td>Sala 4</td>\n",
              "      <td>867003</td>\n",
              "      <td>2020-01-27 17:30:00</td>\n",
              "      <td>2020-01-27 19:00:00</td>\n",
              "      <td>90.0</td>\n",
              "      <td>1.189118e+06</td>\n",
              "    </tr>\n",
              "    <tr>\n",
              "      <th>1</th>\n",
              "      <td>1042103</td>\n",
              "      <td>2020</td>\n",
              "      <td>1</td>\n",
              "      <td>2020-01-15 10:18:00</td>\n",
              "      <td>2020-01-15 10:20:00</td>\n",
              "      <td>97</td>\n",
              "      <td>Sala 4</td>\n",
              "      <td>549001+544104</td>\n",
              "      <td>2020-01-15 09:05:00</td>\n",
              "      <td>2020-01-15 10:18:00</td>\n",
              "      <td>73.0</td>\n",
              "      <td>9.645069e+05</td>\n",
              "    </tr>\n",
              "    <tr>\n",
              "      <th>2</th>\n",
              "      <td>1044065</td>\n",
              "      <td>2020</td>\n",
              "      <td>1</td>\n",
              "      <td>2020-01-23 12:48:00</td>\n",
              "      <td>2020-01-24 09:49:08</td>\n",
              "      <td>95</td>\n",
              "      <td>Sala 2</td>\n",
              "      <td>361605+361901+361801</td>\n",
              "      <td>2020-01-23 10:35:00</td>\n",
              "      <td>2020-01-23 18:00:00</td>\n",
              "      <td>445.0</td>\n",
              "      <td>4.994296e+06</td>\n",
              "    </tr>\n",
              "  </tbody>\n",
              "</table>\n",
              "</div>"
            ],
            "text/plain": [
              "   IdAtencion  Anio  Mes  ...          ValFinalCx MinutosCx        ValCIF\n",
              "0     1043856  2020    1  ... 2020-01-27 19:00:00      90.0  1.189118e+06\n",
              "1     1042103  2020    1  ... 2020-01-15 10:18:00      73.0  9.645069e+05\n",
              "2     1044065  2020    1  ... 2020-01-23 18:00:00     445.0  4.994296e+06\n",
              "\n",
              "[3 rows x 12 columns]"
            ]
          },
          "metadata": {
            "tags": []
          },
          "execution_count": 10
        }
      ]
    },
    {
      "cell_type": "code",
      "metadata": {
        "id": "29dMyAGTQBlz",
        "colab_type": "code",
        "colab": {}
      },
      "source": [
        "df_Mod = df_Mod[[\"IdAtencion\",\"ValMODConResponsable\",\"ValMODSinResponsable\",\"ValTercero\",\"Tercero\",\"NominaMOD\"]]"
      ],
      "execution_count": 0,
      "outputs": []
    },
    {
      "cell_type": "code",
      "metadata": {
        "id": "sSpYIQFRRFht",
        "colab_type": "code",
        "colab": {
          "base_uri": "https://localhost:8080/",
          "height": 142
        },
        "outputId": "a8177543-bc7e-47ac-ccf4-6584844a30e2"
      },
      "source": [
        "df_Mod.head(3)"
      ],
      "execution_count": 12,
      "outputs": [
        {
          "output_type": "execute_result",
          "data": {
            "text/html": [
              "<div>\n",
              "<style scoped>\n",
              "    .dataframe tbody tr th:only-of-type {\n",
              "        vertical-align: middle;\n",
              "    }\n",
              "\n",
              "    .dataframe tbody tr th {\n",
              "        vertical-align: top;\n",
              "    }\n",
              "\n",
              "    .dataframe thead th {\n",
              "        text-align: right;\n",
              "    }\n",
              "</style>\n",
              "<table border=\"1\" class=\"dataframe\">\n",
              "  <thead>\n",
              "    <tr style=\"text-align: right;\">\n",
              "      <th></th>\n",
              "      <th>IdAtencion</th>\n",
              "      <th>ValMODConResponsable</th>\n",
              "      <th>ValMODSinResponsable</th>\n",
              "      <th>ValTercero</th>\n",
              "      <th>Tercero</th>\n",
              "      <th>NominaMOD</th>\n",
              "    </tr>\n",
              "  </thead>\n",
              "  <tbody>\n",
              "    <tr>\n",
              "      <th>0</th>\n",
              "      <td>1040641</td>\n",
              "      <td>0.0</td>\n",
              "      <td>0</td>\n",
              "      <td>0.0</td>\n",
              "      <td>No</td>\n",
              "      <td>No</td>\n",
              "    </tr>\n",
              "    <tr>\n",
              "      <th>1</th>\n",
              "      <td>1044084</td>\n",
              "      <td>0.0</td>\n",
              "      <td>0</td>\n",
              "      <td>0.0</td>\n",
              "      <td>No</td>\n",
              "      <td>No</td>\n",
              "    </tr>\n",
              "    <tr>\n",
              "      <th>2</th>\n",
              "      <td>1040237</td>\n",
              "      <td>0.0</td>\n",
              "      <td>0</td>\n",
              "      <td>0.0</td>\n",
              "      <td>No</td>\n",
              "      <td>No</td>\n",
              "    </tr>\n",
              "  </tbody>\n",
              "</table>\n",
              "</div>"
            ],
            "text/plain": [
              "   IdAtencion  ValMODConResponsable  ...  Tercero  NominaMOD\n",
              "0     1040641                   0.0  ...       No         No\n",
              "1     1044084                   0.0  ...       No         No\n",
              "2     1040237                   0.0  ...       No         No\n",
              "\n",
              "[3 rows x 6 columns]"
            ]
          },
          "metadata": {
            "tags": []
          },
          "execution_count": 12
        }
      ]
    },
    {
      "cell_type": "code",
      "metadata": {
        "id": "bG6qHZFGUM_d",
        "colab_type": "code",
        "colab": {
          "base_uri": "https://localhost:8080/",
          "height": 450
        },
        "outputId": "ae561a52-dd6a-4932-a22d-cc76407c9041"
      },
      "source": [
        "\n",
        "df_Mod.groupby(['IdAtencion']).sum()"
      ],
      "execution_count": 13,
      "outputs": [
        {
          "output_type": "execute_result",
          "data": {
            "text/html": [
              "<div>\n",
              "<style scoped>\n",
              "    .dataframe tbody tr th:only-of-type {\n",
              "        vertical-align: middle;\n",
              "    }\n",
              "\n",
              "    .dataframe tbody tr th {\n",
              "        vertical-align: top;\n",
              "    }\n",
              "\n",
              "    .dataframe thead th {\n",
              "        text-align: right;\n",
              "    }\n",
              "</style>\n",
              "<table border=\"1\" class=\"dataframe\">\n",
              "  <thead>\n",
              "    <tr style=\"text-align: right;\">\n",
              "      <th></th>\n",
              "      <th>ValMODConResponsable</th>\n",
              "      <th>ValMODSinResponsable</th>\n",
              "      <th>ValTercero</th>\n",
              "    </tr>\n",
              "    <tr>\n",
              "      <th>IdAtencion</th>\n",
              "      <th></th>\n",
              "      <th></th>\n",
              "      <th></th>\n",
              "    </tr>\n",
              "  </thead>\n",
              "  <tbody>\n",
              "    <tr>\n",
              "      <th>1009338</th>\n",
              "      <td>5.561118e+06</td>\n",
              "      <td>0</td>\n",
              "      <td>56769.91</td>\n",
              "    </tr>\n",
              "    <tr>\n",
              "      <th>1018570</th>\n",
              "      <td>0.000000e+00</td>\n",
              "      <td>0</td>\n",
              "      <td>0.00</td>\n",
              "    </tr>\n",
              "    <tr>\n",
              "      <th>1023343</th>\n",
              "      <td>2.284575e+05</td>\n",
              "      <td>0</td>\n",
              "      <td>436358.16</td>\n",
              "    </tr>\n",
              "    <tr>\n",
              "      <th>1024670</th>\n",
              "      <td>2.785233e+05</td>\n",
              "      <td>0</td>\n",
              "      <td>305992.46</td>\n",
              "    </tr>\n",
              "    <tr>\n",
              "      <th>1025215</th>\n",
              "      <td>1.030071e+07</td>\n",
              "      <td>0</td>\n",
              "      <td>0.00</td>\n",
              "    </tr>\n",
              "    <tr>\n",
              "      <th>...</th>\n",
              "      <td>...</td>\n",
              "      <td>...</td>\n",
              "      <td>...</td>\n",
              "    </tr>\n",
              "    <tr>\n",
              "      <th>1065716</th>\n",
              "      <td>4.701555e+05</td>\n",
              "      <td>0</td>\n",
              "      <td>0.00</td>\n",
              "    </tr>\n",
              "    <tr>\n",
              "      <th>1065825</th>\n",
              "      <td>8.703537e+05</td>\n",
              "      <td>0</td>\n",
              "      <td>48382.74</td>\n",
              "    </tr>\n",
              "    <tr>\n",
              "      <th>1065962</th>\n",
              "      <td>3.078477e+06</td>\n",
              "      <td>0</td>\n",
              "      <td>0.00</td>\n",
              "    </tr>\n",
              "    <tr>\n",
              "      <th>1066167</th>\n",
              "      <td>1.372828e+06</td>\n",
              "      <td>0</td>\n",
              "      <td>0.00</td>\n",
              "    </tr>\n",
              "    <tr>\n",
              "      <th>1066196</th>\n",
              "      <td>2.819228e+06</td>\n",
              "      <td>0</td>\n",
              "      <td>106325.52</td>\n",
              "    </tr>\n",
              "  </tbody>\n",
              "</table>\n",
              "<p>580 rows × 3 columns</p>\n",
              "</div>"
            ],
            "text/plain": [
              "            ValMODConResponsable  ValMODSinResponsable  ValTercero\n",
              "IdAtencion                                                        \n",
              "1009338             5.561118e+06                     0    56769.91\n",
              "1018570             0.000000e+00                     0        0.00\n",
              "1023343             2.284575e+05                     0   436358.16\n",
              "1024670             2.785233e+05                     0   305992.46\n",
              "1025215             1.030071e+07                     0        0.00\n",
              "...                          ...                   ...         ...\n",
              "1065716             4.701555e+05                     0        0.00\n",
              "1065825             8.703537e+05                     0    48382.74\n",
              "1065962             3.078477e+06                     0        0.00\n",
              "1066167             1.372828e+06                     0        0.00\n",
              "1066196             2.819228e+06                     0   106325.52\n",
              "\n",
              "[580 rows x 3 columns]"
            ]
          },
          "metadata": {
            "tags": []
          },
          "execution_count": 13
        }
      ]
    },
    {
      "cell_type": "markdown",
      "metadata": {
        "id": "CbQRpzOnRyMV",
        "colab_type": "text"
      },
      "source": [
        "**Unir Bases de Datos**"
      ]
    },
    {
      "cell_type": "code",
      "metadata": {
        "id": "amsdgGf6R0yb",
        "colab_type": "code",
        "colab": {}
      },
      "source": [
        "df = pd.merge(df_Cif,df_Mod ,how=\"right\",left_on=\"IdAtencion\",right_on=\"IdAtencion\")"
      ],
      "execution_count": 0,
      "outputs": []
    },
    {
      "cell_type": "code",
      "metadata": {
        "id": "NGgCqP_3SXtI",
        "colab_type": "code",
        "colab": {
          "base_uri": "https://localhost:8080/",
          "height": 360
        },
        "outputId": "1906b5b9-9183-4afa-8b1e-860d4d62a864"
      },
      "source": [
        "df.head(5)"
      ],
      "execution_count": 15,
      "outputs": [
        {
          "output_type": "execute_result",
          "data": {
            "text/html": [
              "<div>\n",
              "<style scoped>\n",
              "    .dataframe tbody tr th:only-of-type {\n",
              "        vertical-align: middle;\n",
              "    }\n",
              "\n",
              "    .dataframe tbody tr th {\n",
              "        vertical-align: top;\n",
              "    }\n",
              "\n",
              "    .dataframe thead th {\n",
              "        text-align: right;\n",
              "    }\n",
              "</style>\n",
              "<table border=\"1\" class=\"dataframe\">\n",
              "  <thead>\n",
              "    <tr style=\"text-align: right;\">\n",
              "      <th></th>\n",
              "      <th>IdAtencion</th>\n",
              "      <th>Anio</th>\n",
              "      <th>Mes</th>\n",
              "      <th>FecCirugia</th>\n",
              "      <th>FecRegistro</th>\n",
              "      <th>IdUbicacion</th>\n",
              "      <th>Ubicacion - SAHI</th>\n",
              "      <th>CodLegal</th>\n",
              "      <th>ValInicioCx</th>\n",
              "      <th>ValFinalCx</th>\n",
              "      <th>MinutosCx</th>\n",
              "      <th>ValCIF</th>\n",
              "      <th>ValMODConResponsable</th>\n",
              "      <th>ValMODSinResponsable</th>\n",
              "      <th>ValTercero</th>\n",
              "      <th>Tercero</th>\n",
              "      <th>NominaMOD</th>\n",
              "    </tr>\n",
              "  </thead>\n",
              "  <tbody>\n",
              "    <tr>\n",
              "      <th>0</th>\n",
              "      <td>1043856</td>\n",
              "      <td>2020</td>\n",
              "      <td>1</td>\n",
              "      <td>2020-01-27 16:43:00</td>\n",
              "      <td>2020-01-27 18:46:54</td>\n",
              "      <td>97</td>\n",
              "      <td>Sala 4</td>\n",
              "      <td>867003</td>\n",
              "      <td>2020-01-27 17:30:00</td>\n",
              "      <td>2020-01-27 19:00:00</td>\n",
              "      <td>90.0</td>\n",
              "      <td>1.189118e+06</td>\n",
              "      <td>242739.829004</td>\n",
              "      <td>0</td>\n",
              "      <td>0.0</td>\n",
              "      <td>No</td>\n",
              "      <td>Si</td>\n",
              "    </tr>\n",
              "    <tr>\n",
              "      <th>1</th>\n",
              "      <td>1043856</td>\n",
              "      <td>2020</td>\n",
              "      <td>1</td>\n",
              "      <td>2020-01-20 11:41:00</td>\n",
              "      <td>2020-01-28 17:10:22</td>\n",
              "      <td>19</td>\n",
              "      <td>SALA CIRUGÍA 4 PISO</td>\n",
              "      <td>862601+378902</td>\n",
              "      <td>NaT</td>\n",
              "      <td>NaT</td>\n",
              "      <td>NaN</td>\n",
              "      <td>0.000000e+00</td>\n",
              "      <td>242739.829004</td>\n",
              "      <td>0</td>\n",
              "      <td>0.0</td>\n",
              "      <td>No</td>\n",
              "      <td>Si</td>\n",
              "    </tr>\n",
              "    <tr>\n",
              "      <th>2</th>\n",
              "      <td>1043856</td>\n",
              "      <td>2020</td>\n",
              "      <td>1</td>\n",
              "      <td>2020-01-27 16:43:00</td>\n",
              "      <td>2020-01-27 18:46:54</td>\n",
              "      <td>97</td>\n",
              "      <td>Sala 4</td>\n",
              "      <td>867003</td>\n",
              "      <td>2020-01-27 17:30:00</td>\n",
              "      <td>2020-01-27 19:00:00</td>\n",
              "      <td>90.0</td>\n",
              "      <td>1.189118e+06</td>\n",
              "      <td>0.000000</td>\n",
              "      <td>0</td>\n",
              "      <td>0.0</td>\n",
              "      <td>No</td>\n",
              "      <td>Si</td>\n",
              "    </tr>\n",
              "    <tr>\n",
              "      <th>3</th>\n",
              "      <td>1043856</td>\n",
              "      <td>2020</td>\n",
              "      <td>1</td>\n",
              "      <td>2020-01-20 11:41:00</td>\n",
              "      <td>2020-01-28 17:10:22</td>\n",
              "      <td>19</td>\n",
              "      <td>SALA CIRUGÍA 4 PISO</td>\n",
              "      <td>862601+378902</td>\n",
              "      <td>NaT</td>\n",
              "      <td>NaT</td>\n",
              "      <td>NaN</td>\n",
              "      <td>0.000000e+00</td>\n",
              "      <td>0.000000</td>\n",
              "      <td>0</td>\n",
              "      <td>0.0</td>\n",
              "      <td>No</td>\n",
              "      <td>Si</td>\n",
              "    </tr>\n",
              "    <tr>\n",
              "      <th>4</th>\n",
              "      <td>1043856</td>\n",
              "      <td>2020</td>\n",
              "      <td>1</td>\n",
              "      <td>2020-01-27 16:43:00</td>\n",
              "      <td>2020-01-27 18:46:54</td>\n",
              "      <td>97</td>\n",
              "      <td>Sala 4</td>\n",
              "      <td>867003</td>\n",
              "      <td>2020-01-27 17:30:00</td>\n",
              "      <td>2020-01-27 19:00:00</td>\n",
              "      <td>90.0</td>\n",
              "      <td>1.189118e+06</td>\n",
              "      <td>0.000000</td>\n",
              "      <td>0</td>\n",
              "      <td>0.0</td>\n",
              "      <td>Si</td>\n",
              "      <td>No</td>\n",
              "    </tr>\n",
              "  </tbody>\n",
              "</table>\n",
              "</div>"
            ],
            "text/plain": [
              "   IdAtencion  Anio  Mes  ... ValTercero Tercero  NominaMOD\n",
              "0     1043856  2020    1  ...        0.0      No         Si\n",
              "1     1043856  2020    1  ...        0.0      No         Si\n",
              "2     1043856  2020    1  ...        0.0      No         Si\n",
              "3     1043856  2020    1  ...        0.0      No         Si\n",
              "4     1043856  2020    1  ...        0.0      Si         No\n",
              "\n",
              "[5 rows x 17 columns]"
            ]
          },
          "metadata": {
            "tags": []
          },
          "execution_count": 15
        }
      ]
    },
    {
      "cell_type": "code",
      "metadata": {
        "id": "E7z2jPFNScaM",
        "colab_type": "code",
        "colab": {
          "base_uri": "https://localhost:8080/",
          "height": 34
        },
        "outputId": "1e4f3765-1302-4abe-dcef-dc07fa4cf87a"
      },
      "source": [
        "df.shape"
      ],
      "execution_count": 16,
      "outputs": [
        {
          "output_type": "execute_result",
          "data": {
            "text/plain": [
              "(3405, 17)"
            ]
          },
          "metadata": {
            "tags": []
          },
          "execution_count": 16
        }
      ]
    },
    {
      "cell_type": "code",
      "metadata": {
        "id": "ICAuSmSVShUz",
        "colab_type": "code",
        "colab": {}
      },
      "source": [
        ""
      ],
      "execution_count": 0,
      "outputs": []
    }
  ]
}