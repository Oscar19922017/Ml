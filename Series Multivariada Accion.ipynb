{
 "cells": [
  {
   "cell_type": "code",
   "execution_count": 37,
   "metadata": {},
   "outputs": [
    {
     "ename": "SyntaxError",
     "evalue": "invalid syntax (<ipython-input-37-85a6b244595e>, line 7)",
     "output_type": "error",
     "traceback": [
      "\u001b[1;36m  File \u001b[1;32m\"<ipython-input-37-85a6b244595e>\"\u001b[1;36m, line \u001b[1;32m7\u001b[0m\n\u001b[1;33m    import statsmodels.tsa.api import VAR\u001b[0m\n\u001b[1;37m                                    ^\u001b[0m\n\u001b[1;31mSyntaxError\u001b[0m\u001b[1;31m:\u001b[0m invalid syntax\n"
     ]
    }
   ],
   "source": [
    "import os\n",
    "from datetime import datetime\n",
    "import pandas_datareader.data as web\n",
    "import numpy as np\n",
    "import pandas as pd\n",
    "import matplotlib.pyplot as plt\n",
    "import statsmodels.tsa.api import VAR"
   ]
  },
  {
   "cell_type": "code",
   "execution_count": 2,
   "metadata": {},
   "outputs": [],
   "source": [
    "df= web.DataReader(\"AAPL\",start=\"2013-01-01\",\n",
    "                  end=\"2020-07-01\",data_source=\"yahoo\")"
   ]
  },
  {
   "cell_type": "code",
   "execution_count": 3,
   "metadata": {},
   "outputs": [
    {
     "data": {
      "text/html": [
       "<div>\n",
       "<style scoped>\n",
       "    .dataframe tbody tr th:only-of-type {\n",
       "        vertical-align: middle;\n",
       "    }\n",
       "\n",
       "    .dataframe tbody tr th {\n",
       "        vertical-align: top;\n",
       "    }\n",
       "\n",
       "    .dataframe thead th {\n",
       "        text-align: right;\n",
       "    }\n",
       "</style>\n",
       "<table border=\"1\" class=\"dataframe\">\n",
       "  <thead>\n",
       "    <tr style=\"text-align: right;\">\n",
       "      <th></th>\n",
       "      <th>High</th>\n",
       "      <th>Low</th>\n",
       "      <th>Open</th>\n",
       "      <th>Close</th>\n",
       "      <th>Volume</th>\n",
       "      <th>Adj Close</th>\n",
       "    </tr>\n",
       "    <tr>\n",
       "      <th>Date</th>\n",
       "      <th></th>\n",
       "      <th></th>\n",
       "      <th></th>\n",
       "      <th></th>\n",
       "      <th></th>\n",
       "      <th></th>\n",
       "    </tr>\n",
       "  </thead>\n",
       "  <tbody>\n",
       "    <tr>\n",
       "      <th>2013-01-02</th>\n",
       "      <td>79.285713</td>\n",
       "      <td>77.375717</td>\n",
       "      <td>79.117142</td>\n",
       "      <td>78.432854</td>\n",
       "      <td>140129500.0</td>\n",
       "      <td>68.502106</td>\n",
       "    </tr>\n",
       "    <tr>\n",
       "      <th>2013-01-03</th>\n",
       "      <td>78.524284</td>\n",
       "      <td>77.285713</td>\n",
       "      <td>78.268570</td>\n",
       "      <td>77.442856</td>\n",
       "      <td>88241300.0</td>\n",
       "      <td>67.637436</td>\n",
       "    </tr>\n",
       "    <tr>\n",
       "      <th>2013-01-04</th>\n",
       "      <td>76.947144</td>\n",
       "      <td>75.118568</td>\n",
       "      <td>76.709999</td>\n",
       "      <td>75.285713</td>\n",
       "      <td>148583400.0</td>\n",
       "      <td>65.753418</td>\n",
       "    </tr>\n",
       "    <tr>\n",
       "      <th>2013-01-07</th>\n",
       "      <td>75.614288</td>\n",
       "      <td>73.599998</td>\n",
       "      <td>74.571426</td>\n",
       "      <td>74.842857</td>\n",
       "      <td>121039100.0</td>\n",
       "      <td>65.366646</td>\n",
       "    </tr>\n",
       "    <tr>\n",
       "      <th>2013-01-08</th>\n",
       "      <td>75.984283</td>\n",
       "      <td>74.464287</td>\n",
       "      <td>75.601425</td>\n",
       "      <td>75.044289</td>\n",
       "      <td>114676800.0</td>\n",
       "      <td>65.542587</td>\n",
       "    </tr>\n",
       "  </tbody>\n",
       "</table>\n",
       "</div>"
      ],
      "text/plain": [
       "                 High        Low       Open      Close       Volume  Adj Close\n",
       "Date                                                                          \n",
       "2013-01-02  79.285713  77.375717  79.117142  78.432854  140129500.0  68.502106\n",
       "2013-01-03  78.524284  77.285713  78.268570  77.442856   88241300.0  67.637436\n",
       "2013-01-04  76.947144  75.118568  76.709999  75.285713  148583400.0  65.753418\n",
       "2013-01-07  75.614288  73.599998  74.571426  74.842857  121039100.0  65.366646\n",
       "2013-01-08  75.984283  74.464287  75.601425  75.044289  114676800.0  65.542587"
      ]
     },
     "execution_count": 3,
     "metadata": {},
     "output_type": "execute_result"
    }
   ],
   "source": [
    "df.head(5)"
   ]
  },
  {
   "cell_type": "code",
   "execution_count": 4,
   "metadata": {},
   "outputs": [
    {
     "data": {
      "text/plain": [
       "<matplotlib.axes._subplots.AxesSubplot at 0x1db3504cec8>"
      ]
     },
     "execution_count": 4,
     "metadata": {},
     "output_type": "execute_result"
    },
    {
     "data": {
      "image/png": "[encoded data removed]",
      "text/plain": [
       "<Figure size 432x288 with 1 Axes>"
      ]
     },
     "metadata": {
      "needs_background": "light"
     },
     "output_type": "display_data"
    }
   ],
   "source": [
    "df[\"Adj Close\"].plot(title=\"Historia de Accion de APPLE\")"
   ]
  },
  {
   "cell_type": "markdown",
   "metadata": {},
   "source": [
    "**Mensual**"
   ]
  },
  {
   "cell_type": "code",
   "execution_count": 5,
   "metadata": {},
   "outputs": [],
   "source": [
    "y = df['Adj Close'].resample('MS').mean()\n",
    "y1 = df['Open'].resample('MS').mean()\n",
    "y2 = df['Low'].resample('MS').mean()"
   ]
  },
  {
   "cell_type": "code",
   "execution_count": 6,
   "metadata": {},
   "outputs": [],
   "source": [
    "data= {\"cierre\":y,\"open\":y1,\"low\":y2}"
   ]
  },
  {
   "cell_type": "code",
   "execution_count": 7,
   "metadata": {},
   "outputs": [],
   "source": [
    "df= pd.DataFrame(data)"
   ]
  },
  {
   "cell_type": "code",
   "execution_count": 8,
   "metadata": {},
   "outputs": [
    {
     "data": {
      "text/html": [
       "<div>\n",
       "<style scoped>\n",
       "    .dataframe tbody tr th:only-of-type {\n",
       "        vertical-align: middle;\n",
       "    }\n",
       "\n",
       "    .dataframe tbody tr th {\n",
       "        vertical-align: top;\n",
       "    }\n",
       "\n",
       "    .dataframe thead th {\n",
       "        text-align: right;\n",
       "    }\n",
       "</style>\n",
       "<table border=\"1\" class=\"dataframe\">\n",
       "  <thead>\n",
       "    <tr style=\"text-align: right;\">\n",
       "      <th></th>\n",
       "      <th>cierre</th>\n",
       "      <th>open</th>\n",
       "      <th>low</th>\n",
       "    </tr>\n",
       "    <tr>\n",
       "      <th>Date</th>\n",
       "      <th></th>\n",
       "      <th></th>\n",
       "      <th></th>\n",
       "    </tr>\n",
       "  </thead>\n",
       "  <tbody>\n",
       "    <tr>\n",
       "      <th>2013-01-01</th>\n",
       "      <td>62.112956</td>\n",
       "      <td>71.440476</td>\n",
       "      <td>70.424286</td>\n",
       "    </tr>\n",
       "    <tr>\n",
       "      <th>2013-02-01</th>\n",
       "      <td>57.258593</td>\n",
       "      <td>65.500527</td>\n",
       "      <td>64.586617</td>\n",
       "    </tr>\n",
       "  </tbody>\n",
       "</table>\n",
       "</div>"
      ],
      "text/plain": [
       "               cierre       open        low\n",
       "Date                                       \n",
       "2013-01-01  62.112956  71.440476  70.424286\n",
       "2013-02-01  57.258593  65.500527  64.586617"
      ]
     },
     "execution_count": 8,
     "metadata": {},
     "output_type": "execute_result"
    }
   ],
   "source": [
    "df.head(2)"
   ]
  },
  {
   "cell_type": "code",
   "execution_count": 14,
   "metadata": {},
   "outputs": [
    {
     "data": {
      "text/plain": [
       "[<matplotlib.lines.Line2D at 0x1db363b2388>]"
      ]
     },
     "execution_count": 14,
     "metadata": {},
     "output_type": "execute_result"
    },
    {
     "data": {
      "image/png": "[encoded data removed]",
      "text/plain": [
       "<Figure size 432x288 with 1 Axes>"
      ]
     },
     "metadata": {
      "needs_background": "light"
     },
     "output_type": "display_data"
    }
   ],
   "source": [
    "plt.plot(df[\"cierre\"])\n",
    "plt.plot(df[\"open\"])\n",
    "plt.plot(df[\"low\"])"
   ]
  },
  {
   "cell_type": "markdown",
   "metadata": {},
   "source": [
    "**Dividir**"
   ]
  },
  {
   "cell_type": "code",
   "execution_count": 15,
   "metadata": {},
   "outputs": [],
   "source": [
    "nobs=8"
   ]
  },
  {
   "cell_type": "code",
   "execution_count": 17,
   "metadata": {},
   "outputs": [],
   "source": [
    "X_train, X_test = df[0:-nobs],df[-nobs:]"
   ]
  },
  {
   "cell_type": "code",
   "execution_count": 19,
   "metadata": {},
   "outputs": [
    {
     "data": {
      "text/html": [
       "<div>\n",
       "<style scoped>\n",
       "    .dataframe tbody tr th:only-of-type {\n",
       "        vertical-align: middle;\n",
       "    }\n",
       "\n",
       "    .dataframe tbody tr th {\n",
       "        vertical-align: top;\n",
       "    }\n",
       "\n",
       "    .dataframe thead th {\n",
       "        text-align: right;\n",
       "    }\n",
       "</style>\n",
       "<table border=\"1\" class=\"dataframe\">\n",
       "  <thead>\n",
       "    <tr style=\"text-align: right;\">\n",
       "      <th></th>\n",
       "      <th>cierre</th>\n",
       "      <th>open</th>\n",
       "      <th>low</th>\n",
       "    </tr>\n",
       "    <tr>\n",
       "      <th>Date</th>\n",
       "      <th></th>\n",
       "      <th></th>\n",
       "      <th></th>\n",
       "    </tr>\n",
       "  </thead>\n",
       "  <tbody>\n",
       "    <tr>\n",
       "      <th>2019-12-01</th>\n",
       "      <td>275.126224</td>\n",
       "      <td>275.391429</td>\n",
       "      <td>273.868096</td>\n",
       "    </tr>\n",
       "    <tr>\n",
       "      <th>2020-01-01</th>\n",
       "      <td>310.337596</td>\n",
       "      <td>311.170954</td>\n",
       "      <td>308.831430</td>\n",
       "    </tr>\n",
       "    <tr>\n",
       "      <th>2020-02-01</th>\n",
       "      <td>310.271843</td>\n",
       "      <td>310.313684</td>\n",
       "      <td>306.726317</td>\n",
       "    </tr>\n",
       "    <tr>\n",
       "      <th>2020-03-01</th>\n",
       "      <td>261.735581</td>\n",
       "      <td>261.073639</td>\n",
       "      <td>254.846363</td>\n",
       "    </tr>\n",
       "    <tr>\n",
       "      <th>2020-04-01</th>\n",
       "      <td>271.650839</td>\n",
       "      <td>271.811427</td>\n",
       "      <td>268.084288</td>\n",
       "    </tr>\n",
       "    <tr>\n",
       "      <th>2020-05-01</th>\n",
       "      <td>309.785164</td>\n",
       "      <td>308.885501</td>\n",
       "      <td>306.381000</td>\n",
       "    </tr>\n",
       "    <tr>\n",
       "      <th>2020-06-01</th>\n",
       "      <td>345.806360</td>\n",
       "      <td>344.541365</td>\n",
       "      <td>340.642725</td>\n",
       "    </tr>\n",
       "    <tr>\n",
       "      <th>2020-07-01</th>\n",
       "      <td>364.109985</td>\n",
       "      <td>365.119995</td>\n",
       "      <td>363.910004</td>\n",
       "    </tr>\n",
       "  </tbody>\n",
       "</table>\n",
       "</div>"
      ],
      "text/plain": [
       "                cierre        open         low\n",
       "Date                                          \n",
       "2019-12-01  275.126224  275.391429  273.868096\n",
       "2020-01-01  310.337596  311.170954  308.831430\n",
       "2020-02-01  310.271843  310.313684  306.726317\n",
       "2020-03-01  261.735581  261.073639  254.846363\n",
       "2020-04-01  271.650839  271.811427  268.084288\n",
       "2020-05-01  309.785164  308.885501  306.381000\n",
       "2020-06-01  345.806360  344.541365  340.642725\n",
       "2020-07-01  364.109985  365.119995  363.910004"
      ]
     },
     "execution_count": 19,
     "metadata": {},
     "output_type": "execute_result"
    }
   ],
   "source": [
    "X_test "
   ]
  },
  {
   "cell_type": "markdown",
   "metadata": {},
   "source": [
    "**Evaluar si es estacionaria la serie**"
   ]
  },
  {
   "cell_type": "code",
   "execution_count": 20,
   "metadata": {},
   "outputs": [],
   "source": [
    "from statsmodels.tsa.stattools import adfuller"
   ]
  },
  {
   "cell_type": "code",
   "execution_count": 32,
   "metadata": {},
   "outputs": [],
   "source": [
    "def adf_test(ts,signif=0.05):\n",
    "    dftest=adfuller(ts,autolag=\"AIC\")\n",
    "    adf = pd.Series(dftest[0:4],index=[\"Test Estadistico\",\"P valor\",\"# L\",\"# Observaciones\"])\n",
    "    for key, value in dftest[4].items():\n",
    "        adf[\"Valor Criticidad(%s)\"%key]=value\n",
    "        print(adf)\n",
    "        p=adf[\"P valor\"]\n",
    "        if p <= signif:\n",
    "            print(\"serie es estacionaria\")\n",
    "        else:\n",
    "            print(\"Seie es No Estacionaria\")"
   ]
  },
  {
   "cell_type": "code",
   "execution_count": 33,
   "metadata": {},
   "outputs": [
    {
     "name": "stdout",
     "output_type": "stream",
     "text": [
      "Test Estadistico         0.760527\n",
      "P valor                  0.990972\n",
      "# L                      3.000000\n",
      "# Observaciones         79.000000\n",
      "Valor Criticidad(1%)    -3.515977\n",
      "dtype: float64\n",
      "Seie es No Estacionaria\n",
      "Test Estadistico         0.760527\n",
      "P valor                  0.990972\n",
      "# L                      3.000000\n",
      "# Observaciones         79.000000\n",
      "Valor Criticidad(1%)    -3.515977\n",
      "Valor Criticidad(5%)    -2.898886\n",
      "dtype: float64\n",
      "Seie es No Estacionaria\n",
      "Test Estadistico          0.760527\n",
      "P valor                   0.990972\n",
      "# L                       3.000000\n",
      "# Observaciones          79.000000\n",
      "Valor Criticidad(1%)     -3.515977\n",
      "Valor Criticidad(5%)     -2.898886\n",
      "Valor Criticidad(10%)    -2.586694\n",
      "dtype: float64\n",
      "Seie es No Estacionaria\n"
     ]
    }
   ],
   "source": [
    "adf_test(X_train[\"cierre\"])"
   ]
  },
  {
   "cell_type": "markdown",
   "metadata": {},
   "source": [
    "**Quitamos tendencia**"
   ]
  },
  {
   "cell_type": "code",
   "execution_count": 35,
   "metadata": {},
   "outputs": [],
   "source": [
    "df_diferencia = X_train.diff().dropna()"
   ]
  },
  {
   "cell_type": "code",
   "execution_count": 36,
   "metadata": {},
   "outputs": [
    {
     "name": "stdout",
     "output_type": "stream",
     "text": [
      "Test Estadistico        -5.335009\n",
      "P valor                  0.000005\n",
      "# L                      2.000000\n",
      "# Observaciones         79.000000\n",
      "Valor Criticidad(1%)    -3.515977\n",
      "dtype: float64\n",
      "serie es estacionaria\n",
      "Test Estadistico        -5.335009\n",
      "P valor                  0.000005\n",
      "# L                      2.000000\n",
      "# Observaciones         79.000000\n",
      "Valor Criticidad(1%)    -3.515977\n",
      "Valor Criticidad(5%)    -2.898886\n",
      "dtype: float64\n",
      "serie es estacionaria\n",
      "Test Estadistico         -5.335009\n",
      "P valor                   0.000005\n",
      "# L                       2.000000\n",
      "# Observaciones          79.000000\n",
      "Valor Criticidad(1%)     -3.515977\n",
      "Valor Criticidad(5%)     -2.898886\n",
      "Valor Criticidad(10%)    -2.586694\n",
      "dtype: float64\n",
      "serie es estacionaria\n"
     ]
    }
   ],
   "source": [
    "adf_test(df_diferencia[\"cierre\"])"
   ]
  },
  {
   "cell_type": "markdown",
   "metadata": {},
   "source": [
    "**Modelo**"
   ]
  },
  {
   "cell_type": "code",
   "execution_count": null,
   "metadata": {},
   "outputs": [],
   "source": [
    "modelo = VAR"
   ]
  }
 ],
 "metadata": {
  "kernelspec": {
   "display_name": "Python 3",
   "language": "python",
   "name": "python3"
  },
  "language_info": {
   "codemirror_mode": {
    "name": "ipython",
    "version": 3
   },
   "file_extension": ".py",
   "mimetype": "text/x-python",
   "name": "python",
   "nbconvert_exporter": "python",
   "pygments_lexer": "ipython3",
   "version": "3.7.7"
  }
 },
 "nbformat": 4,
 "nbformat_minor": 4
}
